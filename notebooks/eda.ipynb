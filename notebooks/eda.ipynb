{
 "cells": [
  {
   "cell_type": "code",
   "execution_count": 1,
   "metadata": {
    "tags": []
   },
   "outputs": [],
   "source": [
    "import os\n",
    "import pandas as pd\n",
    "\n",
    "from dotenv import load_dotenv\n",
    "from pathlib import Path\n",
    "\n",
    "# from dataprep.eda import create_report, diff\n",
    "\n",
    "%load_ext autoreload\n",
    "%autoreload 2"
   ]
  },
  {
   "cell_type": "code",
   "execution_count": 2,
   "metadata": {},
   "outputs": [],
   "source": [
    "pd.options.display.float_format = \"{:.3f}\".format"
   ]
  },
  {
   "cell_type": "code",
   "execution_count": 3,
   "metadata": {},
   "outputs": [
    {
     "data": {
      "text/plain": [
       "True"
      ]
     },
     "execution_count": 3,
     "metadata": {},
     "output_type": "execute_result"
    }
   ],
   "source": [
    "load_dotenv(override=True)"
   ]
  },
  {
   "cell_type": "code",
   "execution_count": 4,
   "metadata": {},
   "outputs": [],
   "source": [
    "DIR_DATA_RAW: str = Path(os.getenv(\"DIR_DATA_RAW\"))\n",
    "DIR_OUTPUTS: str = Path(os.getenv(\"DIR_OUTPUTS\"))"
   ]
  },
  {
   "cell_type": "code",
   "execution_count": 5,
   "metadata": {},
   "outputs": [],
   "source": [
    "df = pd.read_csv(f\"{DIR_DATA_RAW}/PS_20174392719_1491204439457_log.csv\")\n",
    "df = df.rename(\n",
    "    columns={\n",
    "        \"oldbalanceOrg\": \"oldBalanceOrig\",\n",
    "        \"newbalanceOrig\": \"newBalanceOrig\",\n",
    "        \"oldbalanceDest\": \"oldBalanceDest\",\n",
    "        \"newbalanceDest\": \"newBalanceDest\",\n",
    "    }\n",
    ")"
   ]
  },
  {
   "cell_type": "code",
   "execution_count": 6,
   "metadata": {},
   "outputs": [
    {
     "data": {
      "text/html": [
       "<div>\n",
       "<style scoped>\n",
       "    .dataframe tbody tr th:only-of-type {\n",
       "        vertical-align: middle;\n",
       "    }\n",
       "\n",
       "    .dataframe tbody tr th {\n",
       "        vertical-align: top;\n",
       "    }\n",
       "\n",
       "    .dataframe thead th {\n",
       "        text-align: right;\n",
       "    }\n",
       "</style>\n",
       "<table border=\"1\" class=\"dataframe\">\n",
       "  <thead>\n",
       "    <tr style=\"text-align: right;\">\n",
       "      <th></th>\n",
       "      <th>step</th>\n",
       "      <th>amount</th>\n",
       "      <th>oldBalanceOrig</th>\n",
       "      <th>newBalanceOrig</th>\n",
       "      <th>oldBalanceDest</th>\n",
       "      <th>newBalanceDest</th>\n",
       "      <th>isFraud</th>\n",
       "      <th>isFlaggedFraud</th>\n",
       "    </tr>\n",
       "  </thead>\n",
       "  <tbody>\n",
       "    <tr>\n",
       "      <th>count</th>\n",
       "      <td>6362620.000</td>\n",
       "      <td>6362620.000</td>\n",
       "      <td>6362620.000</td>\n",
       "      <td>6362620.000</td>\n",
       "      <td>6362620.000</td>\n",
       "      <td>6362620.000</td>\n",
       "      <td>6362620.000</td>\n",
       "      <td>6362620.000</td>\n",
       "    </tr>\n",
       "    <tr>\n",
       "      <th>mean</th>\n",
       "      <td>243.397</td>\n",
       "      <td>179861.904</td>\n",
       "      <td>833883.104</td>\n",
       "      <td>855113.669</td>\n",
       "      <td>1100701.667</td>\n",
       "      <td>1224996.398</td>\n",
       "      <td>0.001</td>\n",
       "      <td>0.000</td>\n",
       "    </tr>\n",
       "    <tr>\n",
       "      <th>std</th>\n",
       "      <td>142.332</td>\n",
       "      <td>603858.231</td>\n",
       "      <td>2888242.673</td>\n",
       "      <td>2924048.503</td>\n",
       "      <td>3399180.113</td>\n",
       "      <td>3674128.942</td>\n",
       "      <td>0.036</td>\n",
       "      <td>0.002</td>\n",
       "    </tr>\n",
       "    <tr>\n",
       "      <th>min</th>\n",
       "      <td>1.000</td>\n",
       "      <td>0.000</td>\n",
       "      <td>0.000</td>\n",
       "      <td>0.000</td>\n",
       "      <td>0.000</td>\n",
       "      <td>0.000</td>\n",
       "      <td>0.000</td>\n",
       "      <td>0.000</td>\n",
       "    </tr>\n",
       "    <tr>\n",
       "      <th>25%</th>\n",
       "      <td>156.000</td>\n",
       "      <td>13389.570</td>\n",
       "      <td>0.000</td>\n",
       "      <td>0.000</td>\n",
       "      <td>0.000</td>\n",
       "      <td>0.000</td>\n",
       "      <td>0.000</td>\n",
       "      <td>0.000</td>\n",
       "    </tr>\n",
       "    <tr>\n",
       "      <th>50%</th>\n",
       "      <td>239.000</td>\n",
       "      <td>74871.940</td>\n",
       "      <td>14208.000</td>\n",
       "      <td>0.000</td>\n",
       "      <td>132705.665</td>\n",
       "      <td>214661.440</td>\n",
       "      <td>0.000</td>\n",
       "      <td>0.000</td>\n",
       "    </tr>\n",
       "    <tr>\n",
       "      <th>75%</th>\n",
       "      <td>335.000</td>\n",
       "      <td>208721.478</td>\n",
       "      <td>107315.175</td>\n",
       "      <td>144258.410</td>\n",
       "      <td>943036.708</td>\n",
       "      <td>1111909.250</td>\n",
       "      <td>0.000</td>\n",
       "      <td>0.000</td>\n",
       "    </tr>\n",
       "    <tr>\n",
       "      <th>max</th>\n",
       "      <td>743.000</td>\n",
       "      <td>92445516.640</td>\n",
       "      <td>59585040.370</td>\n",
       "      <td>49585040.370</td>\n",
       "      <td>356015889.350</td>\n",
       "      <td>356179278.920</td>\n",
       "      <td>1.000</td>\n",
       "      <td>1.000</td>\n",
       "    </tr>\n",
       "  </tbody>\n",
       "</table>\n",
       "</div>"
      ],
      "text/plain": [
       "             step       amount  oldBalanceOrig  newBalanceOrig  \\\n",
       "count 6362620.000  6362620.000     6362620.000     6362620.000   \n",
       "mean      243.397   179861.904      833883.104      855113.669   \n",
       "std       142.332   603858.231     2888242.673     2924048.503   \n",
       "min         1.000        0.000           0.000           0.000   \n",
       "25%       156.000    13389.570           0.000           0.000   \n",
       "50%       239.000    74871.940       14208.000           0.000   \n",
       "75%       335.000   208721.478      107315.175      144258.410   \n",
       "max       743.000 92445516.640    59585040.370    49585040.370   \n",
       "\n",
       "       oldBalanceDest  newBalanceDest     isFraud  isFlaggedFraud  \n",
       "count     6362620.000     6362620.000 6362620.000     6362620.000  \n",
       "mean      1100701.667     1224996.398       0.001           0.000  \n",
       "std       3399180.113     3674128.942       0.036           0.002  \n",
       "min             0.000           0.000       0.000           0.000  \n",
       "25%             0.000           0.000       0.000           0.000  \n",
       "50%        132705.665      214661.440       0.000           0.000  \n",
       "75%        943036.708     1111909.250       0.000           0.000  \n",
       "max     356015889.350   356179278.920       1.000           1.000  "
      ]
     },
     "execution_count": 6,
     "metadata": {},
     "output_type": "execute_result"
    }
   ],
   "source": [
    "df.describe()"
   ]
  },
  {
   "cell_type": "code",
   "execution_count": 7,
   "metadata": {
    "collapsed": false,
    "jupyter": {
     "outputs_hidden": false
    },
    "pycharm": {
     "name": "#%%\n"
    }
   },
   "outputs": [
    {
     "data": {
      "text/plain": [
       "False"
      ]
     },
     "execution_count": 7,
     "metadata": {},
     "output_type": "execute_result"
    }
   ],
   "source": [
    "df.isnull().values.any()"
   ]
  },
  {
   "cell_type": "code",
   "execution_count": 8,
   "metadata": {
    "collapsed": false,
    "jupyter": {
     "outputs_hidden": false
    },
    "pycharm": {
     "name": "#%%\n"
    }
   },
   "outputs": [
    {
     "name": "stdout",
     "output_type": "stream",
     "text": [
      "The types of fraudulent transactions are ['TRANSFER' 'CASH_OUT']\n",
      "The number of fraudulent TRANSFERs = 4097\n",
      "The number of fraudulent CASH_OUTs = 4116\n"
     ]
    }
   ],
   "source": [
    "print(\n",
    "    f\"The types of fraudulent transactions are {df.loc[df['isFraud'] == 1, 'type'].unique()}\"\n",
    ")\n",
    "\n",
    "fraud_transfer_df = df.loc[(df[\"isFraud\"] == 1) & (df[\"type\"] == \"TRANSFER\")]\n",
    "fraud_cashout_df = df.loc[(df[\"isFraud\"] == 1) & (df[\"type\"] == \"CASH_OUT\")]\n",
    "\n",
    "print(f\"The number of fraudulent TRANSFERs = {fraud_transfer_df.shape[0]}\")\n",
    "\n",
    "print(f\"The number of fraudulent CASH_OUTs = {fraud_cashout_df.shape[0]}\")"
   ]
  },
  {
   "cell_type": "markdown",
   "metadata": {
    "pycharm": {
     "name": "#%% md\n"
    }
   },
   "source": [
    "Only 2 of the 5 types of transactions are concerned by fraud cases ('TRANSFER' & 'CASH_OUT') almost same number."
   ]
  },
  {
   "cell_type": "code",
   "execution_count": 9,
   "metadata": {
    "collapsed": false,
    "jupyter": {
     "outputs_hidden": false
    },
    "pycharm": {
     "name": "#%%\n"
    }
   },
   "outputs": [
    {
     "name": "stdout",
     "output_type": "stream",
     "text": [
      "The type of transactions in which isFlaggedFraud is set: ['TRANSFER']\n",
      "Min amount transacted when isFlaggedFraud is set= 353874.22\n",
      "Max amount transacted in a TRANSFER where isFlaggedFraud is not set= 92445516.64\n"
     ]
    }
   ],
   "source": [
    "print(\n",
    "    f\"The type of transactions in which isFlaggedFraud is set: {df.loc[df['isFlaggedFraud'] == 1, 'type'].unique()}\"\n",
    ")\n",
    "\n",
    "transfer_df = df.loc[df[\"type\"] == \"TRANSFER\"]\n",
    "flagged_df = df.loc[df[\"isFlaggedFraud\"] == 1]\n",
    "not_flagged_df = df.loc[df[\"isFlaggedFraud\"] == 0]\n",
    "\n",
    "print(f\"Min amount transacted when isFlaggedFraud is set= {flagged_df['amount'].min()}\")\n",
    "print(\n",
    "    f\"Max amount transacted in a TRANSFER where isFlaggedFraud is not set= {transfer_df.loc[transfer_df['isFlaggedFraud'] == 0, 'amount'].max()}\"\n",
    ")"
   ]
  },
  {
   "cell_type": "code",
   "execution_count": 10,
   "metadata": {
    "collapsed": false,
    "jupyter": {
     "outputs_hidden": false
    },
    "pycharm": {
     "name": "#%%\n"
    }
   },
   "outputs": [
    {
     "name": "stdout",
     "output_type": "stream",
     "text": [
      "The number of TRANSFERs where isFlaggedFraud = 0, yet oldBalanceDest = 0 and newBalanceDest = 0: 4158\n"
     ]
    }
   ],
   "source": [
    "print(\n",
    "    f\"The number of TRANSFERs where isFlaggedFraud = 0, yet oldBalanceDest = 0 and newBalanceDest = 0: {transfer_df.loc[(transfer_df['isFlaggedFraud'] == 0) & (transfer_df['oldBalanceDest'] == 0) & (transfer_df['newBalanceDest'] == 0)].shape[0]}\"\n",
    ")"
   ]
  },
  {
   "cell_type": "code",
   "execution_count": 11,
   "metadata": {
    "collapsed": false,
    "jupyter": {
     "outputs_hidden": false
    },
    "pycharm": {
     "name": "#%%\n"
    }
   },
   "outputs": [
    {
     "name": "stdout",
     "output_type": "stream",
     "text": [
      "Min, Max of oldBalanceOrig for isFlaggedFraud = 1 TRANSFERs: [353874.22, 19585040.37]\n",
      "Min, Max of oldBalanceOrig for isFlaggedFraud = 0 TRANSFERs where oldBalanceOrig = newBalanceOrig: (0.0, 575667.54)\n"
     ]
    }
   ],
   "source": [
    "print(\n",
    "    f\"Min, Max of oldBalanceOrig for isFlaggedFraud = 1 TRANSFERs: {[flagged_df['oldBalanceOrig'].min(), flagged_df['oldBalanceOrig'].max()]}\"\n",
    ")\n",
    "\n",
    "iso_balance = transfer_df.loc[\n",
    "    (transfer_df[\"isFlaggedFraud\"] == 0)\n",
    "    & (transfer_df[\"oldBalanceOrig\"] == transfer_df[\"newBalanceOrig\"]),\n",
    "    \"oldBalanceOrig\",\n",
    "]\n",
    "\n",
    "print(\n",
    "    f\"Min, Max of oldBalanceOrig for isFlaggedFraud = 0 TRANSFERs where oldBalanceOrig = newBalanceOrig: {iso_balance.min(), iso_balance.max()}\"\n",
    ")"
   ]
  },
  {
   "cell_type": "code",
   "execution_count": 12,
   "metadata": {
    "collapsed": false,
    "jupyter": {
     "outputs_hidden": false
    },
    "pycharm": {
     "name": "#%%\n"
    }
   },
   "outputs": [
    {
     "name": "stdout",
     "output_type": "stream",
     "text": [
      "Have originators of transactions flagged as fraud transacted more than once? True\n",
      "Have destinations for transactions flagged as fraud initiated other transactions? False\n",
      "How many destination accounts of transactions flagged as fraud have been destination accounts more than once?: 2\n"
     ]
    }
   ],
   "source": [
    "print(\n",
    "    f\"Have originators of transactions flagged as fraud transacted more than once? {not_flagged_df['nameOrig'].isin(pd.concat([not_flagged_df['nameOrig'], not_flagged_df['nameDest']])).any()}\"\n",
    ")\n",
    "\n",
    "print(\n",
    "    f\"Have destinations for transactions flagged as fraud initiated other transactions? {flagged_df['nameDest'].isin(not_flagged_df['nameOrig']).any()}\"\n",
    ")\n",
    "\n",
    "print(\n",
    "    f\"How many destination accounts of transactions flagged as fraud have been destination accounts more than once?: {sum(flagged_df['nameDest'].isin(not_flagged_df['nameDest']))}\"\n",
    ")"
   ]
  },
  {
   "cell_type": "code",
   "execution_count": 13,
   "metadata": {
    "collapsed": false,
    "jupyter": {
     "outputs_hidden": false
    },
    "pycharm": {
     "name": "#%%\n"
    }
   },
   "outputs": [
    {
     "name": "stdout",
     "output_type": "stream",
     "text": [
      "Are there any merchants among originator accounts for CASH_IN transactions? False\n"
     ]
    }
   ],
   "source": [
    "print(\n",
    "    f\"Are there any merchants among originator accounts for CASH_IN transactions? {df.loc[df['type'] == 'CASH_IN', 'nameOrig'].str.contains('M').any()}\"\n",
    ")"
   ]
  },
  {
   "cell_type": "code",
   "execution_count": 14,
   "metadata": {
    "collapsed": false,
    "jupyter": {
     "outputs_hidden": false
    },
    "pycharm": {
     "name": "#%%\n"
    }
   },
   "outputs": [
    {
     "name": "stdout",
     "output_type": "stream",
     "text": [
      "Are there any merchants among originator accounts for CASH_IN transactions? False\n"
     ]
    }
   ],
   "source": [
    "print(\n",
    "    f\"Are there any merchants among originator accounts for CASH_IN transactions? {df.loc[df['type'] == 'CASH_OUT', 'nameOrig'].str.contains('M').any()}\"\n",
    ")"
   ]
  },
  {
   "cell_type": "code",
   "execution_count": 15,
   "metadata": {
    "collapsed": false,
    "jupyter": {
     "outputs_hidden": false
    },
    "pycharm": {
     "name": "#%%\n"
    }
   },
   "outputs": [
    {
     "name": "stdout",
     "output_type": "stream",
     "text": [
      "Are there merchants among any originator accounts? False\n",
      "Are there any transactions having merchants among destination accounts other than the PAYMENT type? False\n"
     ]
    }
   ],
   "source": [
    "print(\n",
    "    f\"Are there merchants among any originator accounts? {df['nameOrig'].str.contains('M').any()}\"\n",
    ")\n",
    "\n",
    "print(\n",
    "    f\"Are there any transactions having merchants among destination accounts other than the PAYMENT type? {(df.loc[df['nameDest'].str.contains('M'), 'type'] != 'PAYMENT').any()}\"\n",
    ")"
   ]
  },
  {
   "cell_type": "code",
   "execution_count": 16,
   "metadata": {
    "collapsed": false,
    "jupyter": {
     "outputs_hidden": false
    },
    "pycharm": {
     "name": "#%%\n"
    }
   },
   "outputs": [
    {
     "name": "stdout",
     "output_type": "stream",
     "text": [
      "Within fraudulent transactions, are there destinations for TRANSFERS that are also originators for CASH_OUTs? False\n"
     ]
    }
   ],
   "source": [
    "print(\n",
    "    f\"Within fraudulent transactions, are there destinations for TRANSFERS that are also originators for CASH_OUTs? {(fraud_transfer_df['nameDest'].isin(fraud_cashout_df['nameOrig'])).any()}\"\n",
    ")\n",
    "\n",
    "not_fraud_df = df.loc[df[\"isFraud\"] == 0]\n",
    "fraud_df = df.loc[df[\"isFraud\"] == 1]"
   ]
  },
  {
   "cell_type": "code",
   "execution_count": 17,
   "metadata": {
    "collapsed": false,
    "jupyter": {
     "outputs_hidden": false
    },
    "pycharm": {
     "name": "#%%\n"
    }
   },
   "outputs": [
    {
     "name": "stdout",
     "output_type": "stream",
     "text": [
      "Fraudulent TRANSFERs whose destination accounts are originators of genuine CASH_OUTs: \n",
      "\n",
      "          step      type      amount     nameOrig  oldBalanceOrig  \\\n",
      "1030443    65  TRANSFER 1282971.570  C1175896731     1282971.570   \n",
      "6039814   486  TRANSFER  214793.320  C2140495649      214793.320   \n",
      "6362556   738  TRANSFER  814689.880  C2029041842      814689.880   \n",
      "\n",
      "         newBalanceOrig     nameDest  oldBalanceDest  newBalanceDest  isFraud  \\\n",
      "1030443           0.000  C1714931087           0.000           0.000        1   \n",
      "6039814           0.000   C423543548           0.000           0.000        1   \n",
      "6362556           0.000  C1023330867           0.000           0.000        1   \n",
      "\n",
      "         isFlaggedFraud  \n",
      "1030443               0  \n",
      "6039814               0  \n",
      "6362556               0  \n"
     ]
    }
   ],
   "source": [
    "print(\n",
    "    f\"Fraudulent TRANSFERs whose destination accounts are originators of genuine CASH_OUTs: \\n\\n {fraud_transfer_df.loc[fraud_transfer_df['nameDest'].isin(not_fraud_df.loc[not_fraud_df['type'] == 'CASH_OUT', 'nameOrig'])].drop_duplicates()}\"\n",
    ")"
   ]
  },
  {
   "cell_type": "code",
   "execution_count": 18,
   "metadata": {
    "collapsed": false,
    "jupyter": {
     "outputs_hidden": false
    },
    "pycharm": {
     "name": "#%%\n"
    }
   },
   "outputs": [
    {
     "name": "stdout",
     "output_type": "stream",
     "text": [
      "Fraudulent TRANSFER to C423543548 occured at step = 486 whereas genuine CASH_OUT from this account occured earlier at step = [185]\n"
     ]
    }
   ],
   "source": [
    "print(\n",
    "    f\"Fraudulent TRANSFER to C423543548 occured at step = 486 whereas genuine CASH_OUT from this account occured earlier at step = {not_fraud_df.loc[(not_fraud_df['type'] == 'CASH_OUT') & (not_fraud_df['nameOrig'] == 'C423543548'), 'step'].values}\"\n",
    ")"
   ]
  },
  {
   "cell_type": "code",
   "execution_count": 19,
   "metadata": {
    "collapsed": false,
    "jupyter": {
     "outputs_hidden": false
    },
    "pycharm": {
     "name": "#%%\n"
    }
   },
   "outputs": [
    {
     "name": "stdout",
     "output_type": "stream",
     "text": [
      "The fraction of fraudulent transactions with 'oldBalanceDest'='newBalanceDest' = 0 although the transacted 'amount' is non-zero is: 0.4955558261293072\n",
      "The fraction of genuine transactions with 'oldBalanceDest'='newBalanceDest' = 0 although the transacted 'amount' is non-zero is: 0.0006176245277308345\n"
     ]
    }
   ],
   "source": [
    "print(\n",
    "    f\"The fraction of fraudulent transactions with 'oldBalanceDest'='newBalanceDest' = 0 although the transacted 'amount' is non-zero is: {fraud_df.loc[(fraud_df['oldBalanceDest'] == 0) & (fraud_df['newBalanceDest'] == 0) & (fraud_df['amount'] != 0)].shape[0]/fraud_df.shape[0]}\"\n",
    ")\n",
    "\n",
    "print(\n",
    "    f\"The fraction of genuine transactions with 'oldBalanceDest'='newBalanceDest' = 0 although the transacted 'amount' is non-zero is: {not_fraud_df.loc[(not_fraud_df['type'].isin(['TRANSFER', 'CASH_OUT'])) & (not_fraud_df['oldBalanceDest'] == 0) & (not_fraud_df['newBalanceDest'] == 0) & (not_fraud_df['amount'] != 0)].shape[0]/not_fraud_df[(not_fraud_df['type'].isin(['TRANSFER', 'CASH_OUT']))].shape[0]}\"\n",
    ")"
   ]
  },
  {
   "cell_type": "code",
   "execution_count": null,
   "metadata": {},
   "outputs": [],
   "source": []
  }
 ],
 "metadata": {
  "kernelspec": {
   "display_name": "Python 3 (ipykernel)",
   "language": "python",
   "name": "python3"
  },
  "language_info": {
   "codemirror_mode": {
    "name": "ipython",
    "version": 3
   },
   "file_extension": ".py",
   "mimetype": "text/x-python",
   "name": "python",
   "nbconvert_exporter": "python",
   "pygments_lexer": "ipython3",
   "version": "3.8.10"
  }
 },
 "nbformat": 4,
 "nbformat_minor": 4
}
