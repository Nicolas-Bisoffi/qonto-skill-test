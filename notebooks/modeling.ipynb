{
 "cells": [
  {
   "cell_type": "code",
   "execution_count": 1,
   "metadata": {
    "pycharm": {
     "name": "#%%\n"
    },
    "tags": []
   },
   "outputs": [],
   "source": [
    "import os\n",
    "import pandas as pd\n",
    "import numpy as np\n",
    "import matplotlib.pyplot as plt\n",
    "\n",
    "from dotenv import load_dotenv\n",
    "from pathlib import Path\n",
    "from sklearn.model_selection import train_test_split\n",
    "from sklearn.compose import ColumnTransformer\n",
    "from sklearn.preprocessing import StandardScaler\n",
    "from sklearn.linear_model import LogisticRegression\n",
    "from imblearn.pipeline import Pipeline\n",
    "from imblearn.over_sampling import SMOTE\n",
    "from sklearn.metrics import average_precision_score, roc_auc_score, precision_recall_curve, roc_curve, auc, confusion_matrix, classification_report\n",
    "from xgboost import XGBClassifier\n",
    "import optuna\n",
    "\n",
    "%load_ext autoreload\n",
    "%autoreload 2"
   ]
  },
  {
   "cell_type": "code",
   "execution_count": 2,
   "metadata": {
    "pycharm": {
     "name": "#%%\n"
    }
   },
   "outputs": [
    {
     "data": {
      "text/plain": [
       "True"
      ]
     },
     "execution_count": 2,
     "metadata": {},
     "output_type": "execute_result"
    }
   ],
   "source": [
    "load_dotenv(override=True)"
   ]
  },
  {
   "cell_type": "code",
   "execution_count": 3,
   "metadata": {
    "pycharm": {
     "name": "#%%\n"
    }
   },
   "outputs": [],
   "source": [
    "DIR_DATA_PROCESSED: str = Path(os.getenv(\"DIR_DATA_PROCESSED\"))"
   ]
  },
  {
   "cell_type": "code",
   "execution_count": 4,
   "metadata": {
    "pycharm": {
     "name": "#%%\n"
    }
   },
   "outputs": [],
   "source": [
    "df = pd.read_csv(f\"{DIR_DATA_PROCESSED}/data.csv\")"
   ]
  },
  {
   "cell_type": "code",
   "execution_count": 5,
   "metadata": {
    "pycharm": {
     "name": "#%%\n"
    }
   },
   "outputs": [],
   "source": [
    "X = df.drop(columns=\"isFraud\")\n",
    "y = df[\"isFraud\"]"
   ]
  },
  {
   "cell_type": "code",
   "execution_count": 6,
   "metadata": {
    "pycharm": {
     "name": "#%%\n"
    }
   },
   "outputs": [
    {
     "name": "stdout",
     "output_type": "stream",
     "text": [
      "skew = 0.002964544224336551\n"
     ]
    }
   ],
   "source": [
    "print(f\"skew = {y[y==1].shape[0]/y.shape[0]}\")"
   ]
  },
  {
   "cell_type": "code",
   "execution_count": 7,
   "metadata": {
    "collapsed": false,
    "jupyter": {
     "outputs_hidden": false
    },
    "pycharm": {
     "name": "#%%\n"
    }
   },
   "outputs": [],
   "source": [
    "X_train, X_test, y_train, y_test = train_test_split(X, y, test_size=0.2, stratify=y, random_state=42)"
   ]
  },
  {
   "cell_type": "markdown",
   "metadata": {
    "jupyter": {
     "outputs_hidden": false
    },
    "pycharm": {
     "name": "#%%\n"
    }
   },
   "source": [
    "# Logistic Regression"
   ]
  },
  {
   "cell_type": "code",
   "execution_count": 20,
   "metadata": {
    "collapsed": false,
    "jupyter": {
     "outputs_hidden": false
    },
    "pycharm": {
     "name": "#%%\n"
    }
   },
   "outputs": [],
   "source": [
    "numeric_preprocessor = ColumnTransformer(\n",
    "    transformers=[\n",
    "        (\"scaler\", StandardScaler(), [c for c in X.columns if c != \"type\"]),\n",
    "    ],\n",
    "    remainder='passthrough'\n",
    ")"
   ]
  },
  {
   "cell_type": "code",
   "execution_count": 21,
   "metadata": {
    "collapsed": false,
    "jupyter": {
     "outputs_hidden": false
    },
    "pycharm": {
     "name": "#%%\n"
    }
   },
   "outputs": [
    {
     "name": "stderr",
     "output_type": "stream",
     "text": [
      "/home/paul/PycharmProjects/personal/qonto-skill-test/.venv/lib/python3.8/site-packages/imblearn/utils/_validation.py:586: FutureWarning: Pass sampling_strategy=0.05 as keyword args. From version 0.9 passing these as positional arguments will result in an error\n",
      "  warnings.warn(\n"
     ]
    }
   ],
   "source": [
    "pipeline = Pipeline([\n",
    "    (\"preprocessor\", numeric_preprocessor),\n",
    "    (\"smote\", SMOTE(.05)),\n",
    "    (\"lr\", LogisticRegression(solver=\"lbfgs\", max_iter=1000))\n",
    "])"
   ]
  },
  {
   "cell_type": "code",
   "execution_count": 22,
   "metadata": {
    "collapsed": false,
    "jupyter": {
     "outputs_hidden": false
    },
    "pycharm": {
     "name": "#%%\n"
    }
   },
   "outputs": [
    {
     "data": {
      "text/html": [
       "<style>#sk-container-id-1 {color: black;background-color: white;}#sk-container-id-1 pre{padding: 0;}#sk-container-id-1 div.sk-toggleable {background-color: white;}#sk-container-id-1 label.sk-toggleable__label {cursor: pointer;display: block;width: 100%;margin-bottom: 0;padding: 0.3em;box-sizing: border-box;text-align: center;}#sk-container-id-1 label.sk-toggleable__label-arrow:before {content: \"▸\";float: left;margin-right: 0.25em;color: #696969;}#sk-container-id-1 label.sk-toggleable__label-arrow:hover:before {color: black;}#sk-container-id-1 div.sk-estimator:hover label.sk-toggleable__label-arrow:before {color: black;}#sk-container-id-1 div.sk-toggleable__content {max-height: 0;max-width: 0;overflow: hidden;text-align: left;background-color: #f0f8ff;}#sk-container-id-1 div.sk-toggleable__content pre {margin: 0.2em;color: black;border-radius: 0.25em;background-color: #f0f8ff;}#sk-container-id-1 input.sk-toggleable__control:checked~div.sk-toggleable__content {max-height: 200px;max-width: 100%;overflow: auto;}#sk-container-id-1 input.sk-toggleable__control:checked~label.sk-toggleable__label-arrow:before {content: \"▾\";}#sk-container-id-1 div.sk-estimator input.sk-toggleable__control:checked~label.sk-toggleable__label {background-color: #d4ebff;}#sk-container-id-1 div.sk-label input.sk-toggleable__control:checked~label.sk-toggleable__label {background-color: #d4ebff;}#sk-container-id-1 input.sk-hidden--visually {border: 0;clip: rect(1px 1px 1px 1px);clip: rect(1px, 1px, 1px, 1px);height: 1px;margin: -1px;overflow: hidden;padding: 0;position: absolute;width: 1px;}#sk-container-id-1 div.sk-estimator {font-family: monospace;background-color: #f0f8ff;border: 1px dotted black;border-radius: 0.25em;box-sizing: border-box;margin-bottom: 0.5em;}#sk-container-id-1 div.sk-estimator:hover {background-color: #d4ebff;}#sk-container-id-1 div.sk-parallel-item::after {content: \"\";width: 100%;border-bottom: 1px solid gray;flex-grow: 1;}#sk-container-id-1 div.sk-label:hover label.sk-toggleable__label {background-color: #d4ebff;}#sk-container-id-1 div.sk-serial::before {content: \"\";position: absolute;border-left: 1px solid gray;box-sizing: border-box;top: 0;bottom: 0;left: 50%;z-index: 0;}#sk-container-id-1 div.sk-serial {display: flex;flex-direction: column;align-items: center;background-color: white;padding-right: 0.2em;padding-left: 0.2em;position: relative;}#sk-container-id-1 div.sk-item {position: relative;z-index: 1;}#sk-container-id-1 div.sk-parallel {display: flex;align-items: stretch;justify-content: center;background-color: white;position: relative;}#sk-container-id-1 div.sk-item::before, #sk-container-id-1 div.sk-parallel-item::before {content: \"\";position: absolute;border-left: 1px solid gray;box-sizing: border-box;top: 0;bottom: 0;left: 50%;z-index: -1;}#sk-container-id-1 div.sk-parallel-item {display: flex;flex-direction: column;z-index: 1;position: relative;background-color: white;}#sk-container-id-1 div.sk-parallel-item:first-child::after {align-self: flex-end;width: 50%;}#sk-container-id-1 div.sk-parallel-item:last-child::after {align-self: flex-start;width: 50%;}#sk-container-id-1 div.sk-parallel-item:only-child::after {width: 0;}#sk-container-id-1 div.sk-dashed-wrapped {border: 1px dashed gray;margin: 0 0.4em 0.5em 0.4em;box-sizing: border-box;padding-bottom: 0.4em;background-color: white;}#sk-container-id-1 div.sk-label label {font-family: monospace;font-weight: bold;display: inline-block;line-height: 1.2em;}#sk-container-id-1 div.sk-label-container {text-align: center;}#sk-container-id-1 div.sk-container {/* jupyter's `normalize.less` sets `[hidden] { display: none; }` but bootstrap.min.css set `[hidden] { display: none !important; }` so we also need the `!important` here to be able to override the default hidden behavior on the sphinx rendered scikit-learn.org. See: https://github.com/scikit-learn/scikit-learn/issues/21755 */display: inline-block !important;position: relative;}#sk-container-id-1 div.sk-text-repr-fallback {display: none;}</style><div id=\"sk-container-id-1\" class=\"sk-top-container\"><div class=\"sk-text-repr-fallback\"><pre>Pipeline(steps=[(&#x27;preprocessor&#x27;,\n",
       "                 ColumnTransformer(remainder=&#x27;passthrough&#x27;,\n",
       "                                   transformers=[(&#x27;scaler&#x27;, StandardScaler(),\n",
       "                                                  [&#x27;step&#x27;, &#x27;amount&#x27;,\n",
       "                                                   &#x27;oldBalanceOrig&#x27;,\n",
       "                                                   &#x27;newBalanceOrig&#x27;,\n",
       "                                                   &#x27;oldBalanceDest&#x27;,\n",
       "                                                   &#x27;newBalanceDest&#x27;,\n",
       "                                                   &#x27;errorBalanceOrig&#x27;,\n",
       "                                                   &#x27;errorBalanceDest&#x27;,\n",
       "                                                   &#x27;hourOfDay&#x27;,\n",
       "                                                   &#x27;dayOfWeek&#x27;])])),\n",
       "                (&#x27;smote&#x27;, SMOTE(sampling_strategy=0.05)),\n",
       "                (&#x27;lr&#x27;, LogisticRegression(max_iter=1000))])</pre><b>In a Jupyter environment, please rerun this cell to show the HTML representation or trust the notebook. <br />On GitHub, the HTML representation is unable to render, please try loading this page with nbviewer.org.</b></div><div class=\"sk-container\" hidden><div class=\"sk-item sk-dashed-wrapped\"><div class=\"sk-label-container\"><div class=\"sk-label sk-toggleable\"><input class=\"sk-toggleable__control sk-hidden--visually\" id=\"sk-estimator-id-1\" type=\"checkbox\" ><label for=\"sk-estimator-id-1\" class=\"sk-toggleable__label sk-toggleable__label-arrow\">Pipeline</label><div class=\"sk-toggleable__content\"><pre>Pipeline(steps=[(&#x27;preprocessor&#x27;,\n",
       "                 ColumnTransformer(remainder=&#x27;passthrough&#x27;,\n",
       "                                   transformers=[(&#x27;scaler&#x27;, StandardScaler(),\n",
       "                                                  [&#x27;step&#x27;, &#x27;amount&#x27;,\n",
       "                                                   &#x27;oldBalanceOrig&#x27;,\n",
       "                                                   &#x27;newBalanceOrig&#x27;,\n",
       "                                                   &#x27;oldBalanceDest&#x27;,\n",
       "                                                   &#x27;newBalanceDest&#x27;,\n",
       "                                                   &#x27;errorBalanceOrig&#x27;,\n",
       "                                                   &#x27;errorBalanceDest&#x27;,\n",
       "                                                   &#x27;hourOfDay&#x27;,\n",
       "                                                   &#x27;dayOfWeek&#x27;])])),\n",
       "                (&#x27;smote&#x27;, SMOTE(sampling_strategy=0.05)),\n",
       "                (&#x27;lr&#x27;, LogisticRegression(max_iter=1000))])</pre></div></div></div><div class=\"sk-serial\"><div class=\"sk-item sk-dashed-wrapped\"><div class=\"sk-label-container\"><div class=\"sk-label sk-toggleable\"><input class=\"sk-toggleable__control sk-hidden--visually\" id=\"sk-estimator-id-2\" type=\"checkbox\" ><label for=\"sk-estimator-id-2\" class=\"sk-toggleable__label sk-toggleable__label-arrow\">preprocessor: ColumnTransformer</label><div class=\"sk-toggleable__content\"><pre>ColumnTransformer(remainder=&#x27;passthrough&#x27;,\n",
       "                  transformers=[(&#x27;scaler&#x27;, StandardScaler(),\n",
       "                                 [&#x27;step&#x27;, &#x27;amount&#x27;, &#x27;oldBalanceOrig&#x27;,\n",
       "                                  &#x27;newBalanceOrig&#x27;, &#x27;oldBalanceDest&#x27;,\n",
       "                                  &#x27;newBalanceDest&#x27;, &#x27;errorBalanceOrig&#x27;,\n",
       "                                  &#x27;errorBalanceDest&#x27;, &#x27;hourOfDay&#x27;,\n",
       "                                  &#x27;dayOfWeek&#x27;])])</pre></div></div></div><div class=\"sk-parallel\"><div class=\"sk-parallel-item\"><div class=\"sk-item\"><div class=\"sk-label-container\"><div class=\"sk-label sk-toggleable\"><input class=\"sk-toggleable__control sk-hidden--visually\" id=\"sk-estimator-id-3\" type=\"checkbox\" ><label for=\"sk-estimator-id-3\" class=\"sk-toggleable__label sk-toggleable__label-arrow\">scaler</label><div class=\"sk-toggleable__content\"><pre>[&#x27;step&#x27;, &#x27;amount&#x27;, &#x27;oldBalanceOrig&#x27;, &#x27;newBalanceOrig&#x27;, &#x27;oldBalanceDest&#x27;, &#x27;newBalanceDest&#x27;, &#x27;errorBalanceOrig&#x27;, &#x27;errorBalanceDest&#x27;, &#x27;hourOfDay&#x27;, &#x27;dayOfWeek&#x27;]</pre></div></div></div><div class=\"sk-serial\"><div class=\"sk-item\"><div class=\"sk-estimator sk-toggleable\"><input class=\"sk-toggleable__control sk-hidden--visually\" id=\"sk-estimator-id-4\" type=\"checkbox\" ><label for=\"sk-estimator-id-4\" class=\"sk-toggleable__label sk-toggleable__label-arrow\">StandardScaler</label><div class=\"sk-toggleable__content\"><pre>StandardScaler()</pre></div></div></div></div></div></div><div class=\"sk-parallel-item\"><div class=\"sk-item\"><div class=\"sk-label-container\"><div class=\"sk-label sk-toggleable\"><input class=\"sk-toggleable__control sk-hidden--visually\" id=\"sk-estimator-id-5\" type=\"checkbox\" ><label for=\"sk-estimator-id-5\" class=\"sk-toggleable__label sk-toggleable__label-arrow\">remainder</label><div class=\"sk-toggleable__content\"><pre>[&#x27;type&#x27;]</pre></div></div></div><div class=\"sk-serial\"><div class=\"sk-item\"><div class=\"sk-estimator sk-toggleable\"><input class=\"sk-toggleable__control sk-hidden--visually\" id=\"sk-estimator-id-6\" type=\"checkbox\" ><label for=\"sk-estimator-id-6\" class=\"sk-toggleable__label sk-toggleable__label-arrow\">passthrough</label><div class=\"sk-toggleable__content\"><pre>passthrough</pre></div></div></div></div></div></div></div></div><div class=\"sk-item\"><div class=\"sk-estimator sk-toggleable\"><input class=\"sk-toggleable__control sk-hidden--visually\" id=\"sk-estimator-id-7\" type=\"checkbox\" ><label for=\"sk-estimator-id-7\" class=\"sk-toggleable__label sk-toggleable__label-arrow\">SMOTE</label><div class=\"sk-toggleable__content\"><pre>SMOTE(sampling_strategy=0.05)</pre></div></div></div><div class=\"sk-item\"><div class=\"sk-estimator sk-toggleable\"><input class=\"sk-toggleable__control sk-hidden--visually\" id=\"sk-estimator-id-8\" type=\"checkbox\" ><label for=\"sk-estimator-id-8\" class=\"sk-toggleable__label sk-toggleable__label-arrow\">LogisticRegression</label><div class=\"sk-toggleable__content\"><pre>LogisticRegression(max_iter=1000)</pre></div></div></div></div></div></div></div>"
      ],
      "text/plain": [
       "Pipeline(steps=[('preprocessor',\n",
       "                 ColumnTransformer(remainder='passthrough',\n",
       "                                   transformers=[('scaler', StandardScaler(),\n",
       "                                                  ['step', 'amount',\n",
       "                                                   'oldBalanceOrig',\n",
       "                                                   'newBalanceOrig',\n",
       "                                                   'oldBalanceDest',\n",
       "                                                   'newBalanceDest',\n",
       "                                                   'errorBalanceOrig',\n",
       "                                                   'errorBalanceDest',\n",
       "                                                   'hourOfDay',\n",
       "                                                   'dayOfWeek'])])),\n",
       "                ('smote', SMOTE(sampling_strategy=0.05)),\n",
       "                ('lr', LogisticRegression(max_iter=1000))])"
      ]
     },
     "execution_count": 22,
     "metadata": {},
     "output_type": "execute_result"
    }
   ],
   "source": [
    "pipeline.fit(X_train, y_train)"
   ]
  },
  {
   "cell_type": "code",
   "execution_count": 23,
   "metadata": {
    "collapsed": false,
    "jupyter": {
     "outputs_hidden": false
    },
    "pycharm": {
     "name": "#%%\n"
    }
   },
   "outputs": [],
   "source": [
    "y_pred = pipeline.predict_proba(X_test)\n",
    "labels_pred = y_pred[:, 1] > 0.5"
   ]
  },
  {
   "cell_type": "code",
   "execution_count": 24,
   "metadata": {
    "collapsed": false,
    "jupyter": {
     "outputs_hidden": false
    },
    "pycharm": {
     "name": "#%%\n"
    }
   },
   "outputs": [
    {
     "name": "stdout",
     "output_type": "stream",
     "text": [
      "AUPRC = 0.6814975239305943\n"
     ]
    }
   ],
   "source": [
    "print('AUPRC = {}'.format(average_precision_score(y_test, y_pred[:, 1])))"
   ]
  },
  {
   "cell_type": "code",
   "execution_count": 25,
   "metadata": {
    "collapsed": false,
    "jupyter": {
     "outputs_hidden": false
    },
    "pycharm": {
     "name": "#%%\n"
    }
   },
   "outputs": [
    {
     "data": {
      "image/png": "[encoded data removed]",
      "text/plain": [
       "<Figure size 432x288 with 1 Axes>"
      ]
     },
     "metadata": {
      "needs_background": "light"
     },
     "output_type": "display_data"
    }
   ],
   "source": [
    "fpr, tpr, thresholds = roc_curve(y_test, y_pred[:, 1])\n",
    "roc_auc = auc(fpr,tpr)\n",
    "\n",
    "# Plot ROC\n",
    "plt.title('Receiver Operating Characteristic')\n",
    "plt.plot(fpr, tpr, 'b',label='AUC = %0.2f'% roc_auc)\n",
    "plt.legend(loc='lower right')\n",
    "plt.plot([0,1],[0,1],'r--')\n",
    "plt.xlim([-0.1,1.0])\n",
    "plt.ylim([-0.1,1.01])\n",
    "plt.ylabel('True Positive Rate')\n",
    "plt.xlabel('False Positive Rate')\n",
    "plt.show()"
   ]
  },
  {
   "cell_type": "code",
   "execution_count": 26,
   "metadata": {
    "collapsed": false,
    "jupyter": {
     "outputs_hidden": false
    },
    "pycharm": {
     "name": "#%%\n"
    }
   },
   "outputs": [
    {
     "name": "stdout",
     "output_type": "stream",
     "text": [
      "[[550993   1446]\n",
      " [   474   1169]]\n"
     ]
    }
   ],
   "source": [
    "print(confusion_matrix(y_test, labels_pred))"
   ]
  },
  {
   "cell_type": "code",
   "execution_count": 27,
   "metadata": {
    "collapsed": false,
    "jupyter": {
     "outputs_hidden": false
    },
    "pycharm": {
     "name": "#%%\n"
    }
   },
   "outputs": [
    {
     "name": "stdout",
     "output_type": "stream",
     "text": [
      "              precision    recall  f1-score   support\n",
      "\n",
      "           0       1.00      1.00      1.00    552439\n",
      "           1       0.45      0.71      0.55      1643\n",
      "\n",
      "    accuracy                           1.00    554082\n",
      "   macro avg       0.72      0.85      0.77    554082\n",
      "weighted avg       1.00      1.00      1.00    554082\n",
      "\n"
     ]
    }
   ],
   "source": [
    "print(classification_report(y_test, labels_pred))"
   ]
  },
  {
   "cell_type": "markdown",
   "metadata": {
    "jupyter": {
     "outputs_hidden": false
    },
    "pycharm": {
     "name": "#%%\n"
    }
   },
   "source": [
    "# XGBoost"
   ]
  },
  {
   "cell_type": "code",
   "execution_count": 28,
   "metadata": {
    "collapsed": false,
    "jupyter": {
     "outputs_hidden": false
    },
    "pycharm": {
     "name": "#%%\n"
    }
   },
   "outputs": [],
   "source": [
    "weights = (y == 0).sum() / ((y == 1).sum())"
   ]
  },
  {
   "cell_type": "code",
   "execution_count": 33,
   "metadata": {
    "collapsed": false,
    "jupyter": {
     "outputs_hidden": false
    },
    "pycharm": {
     "name": "#%%\n"
    }
   },
   "outputs": [],
   "source": [
    "clf = XGBClassifier(max_depth = 3, scale_pos_weight = weights, n_jobs = 4)\n",
    "clf.fit(X_train, y_train)"
   ]
  },
  {
   "cell_type": "code",
   "execution_count": 39,
   "metadata": {},
   "outputs": [],
   "source": [
    "y_pred = clf.predict_proba(X_test)\n",
    "labels_pred = y_pred[:, 1] > 0.5"
   ]
  },
  {
   "cell_type": "code",
   "execution_count": 40,
   "metadata": {
    "collapsed": false,
    "jupyter": {
     "outputs_hidden": false
    },
    "pycharm": {
     "name": "#%%\n"
    }
   },
   "outputs": [
    {
     "name": "stdout",
     "output_type": "stream",
     "text": [
      "AUPRC = 0.9965729926359266\n"
     ]
    }
   ],
   "source": [
    "print(f\"AUPRC = {average_precision_score(y_test, y_pred[:, 1])}\")"
   ]
  },
  {
   "cell_type": "code",
   "execution_count": 41,
   "metadata": {
    "collapsed": false,
    "jupyter": {
     "outputs_hidden": false
    },
    "pycharm": {
     "name": "#%%\n"
    }
   },
   "outputs": [
    {
     "data": {
      "image/png": "[encoded data removed]",
      "text/plain": [
       "<Figure size 432x288 with 1 Axes>"
      ]
     },
     "metadata": {
      "needs_background": "light"
     },
     "output_type": "display_data"
    }
   ],
   "source": [
    "fpr, tpr, thresholds = roc_curve(y_test, y_pred[:, 1])\n",
    "roc_auc = auc(fpr,tpr)\n",
    "\n",
    "# Plot ROC\n",
    "plt.title('Receiver Operating Characteristic')\n",
    "plt.plot(fpr, tpr, 'b',label='AUC = %0.2f'% roc_auc)\n",
    "plt.legend(loc='lower right')\n",
    "plt.plot([0,1],[0,1],'r--')\n",
    "plt.xlim([-0.1,1.0])\n",
    "plt.ylim([-0.1,1.01])\n",
    "plt.ylabel('True Positive Rate')\n",
    "plt.xlabel('False Positive Rate')\n",
    "plt.show()"
   ]
  },
  {
   "cell_type": "code",
   "execution_count": 44,
   "metadata": {
    "collapsed": false,
    "jupyter": {
     "outputs_hidden": false
    },
    "pycharm": {
     "name": "#%%\n"
    }
   },
   "outputs": [
    {
     "name": "stdout",
     "output_type": "stream",
     "text": [
      "[[552416     23]\n",
      " [     5   1638]]\n"
     ]
    }
   ],
   "source": [
    "print(confusion_matrix(y_test, labels_pred))"
   ]
  },
  {
   "cell_type": "code",
   "execution_count": 45,
   "metadata": {
    "collapsed": false,
    "jupyter": {
     "outputs_hidden": false
    },
    "pycharm": {
     "name": "#%%\n"
    }
   },
   "outputs": [
    {
     "name": "stdout",
     "output_type": "stream",
     "text": [
      "              precision    recall  f1-score   support\n",
      "\n",
      "           0       1.00      1.00      1.00    552439\n",
      "           1       0.99      1.00      0.99      1643\n",
      "\n",
      "    accuracy                           1.00    554082\n",
      "   macro avg       0.99      1.00      1.00    554082\n",
      "weighted avg       1.00      1.00      1.00    554082\n",
      "\n"
     ]
    }
   ],
   "source": [
    "print(classification_report(y_test, labels_pred))"
   ]
  },
  {
   "cell_type": "markdown",
   "metadata": {
    "jupyter": {
     "outputs_hidden": false
    },
    "pycharm": {
     "name": "#%%\n"
    }
   },
   "source": [
    "# Hyper Optimization"
   ]
  },
  {
   "cell_type": "code",
   "execution_count": 28,
   "metadata": {
    "collapsed": false,
    "jupyter": {
     "outputs_hidden": false
    },
    "pycharm": {
     "name": "#%%\n"
    }
   },
   "outputs": [],
   "source": [
    "def objective(trial, X, y):\n",
    "\n",
    "    X_train, X_test, y_train, y_test = train_test_split(X, y, test_size=0.1,random_state=42)\n",
    "    param = {\n",
    "        'lambda': trial.suggest_loguniform('lambda', 1e-3, 10.0),\n",
    "        'alpha': trial.suggest_loguniform('alpha', 1e-3, 10.0),\n",
    "        'colsample_bytree': trial.suggest_categorical('colsample_bytree', [0.3,0.4,0.5,0.6,0.7,0.8,0.9, 1.0]),\n",
    "        'subsample': trial.suggest_categorical('subsample', [0.4,0.5,0.6,0.7,0.8,1.0]),\n",
    "        'learning_rate': trial.suggest_categorical('learning_rate', [0.008,0.01,0.012,0.014,0.016,0.018, 0.02]),\n",
    "        'max_depth': trial.suggest_categorical('max_depth', [5,7,9,11,13,15,17]),\n",
    "        'random_state': trial.suggest_categorical('random_state', [2020]),\n",
    "        'min_child_weight': trial.suggest_int('min_child_weight', 1, 300),\n",
    "    }\n",
    "    clf = XGBClassifier(**param)\n",
    "\n",
    "    clf.fit(X_train, y_train)\n",
    "\n",
    "    y_pred = clf.predict_proba(X_test)\n",
    "\n",
    "    return average_precision_score(y_test, y_pred[:, 1])"
   ]
  },
  {
   "cell_type": "code",
   "execution_count": 29,
   "metadata": {
    "collapsed": false,
    "jupyter": {
     "outputs_hidden": false
    },
    "pycharm": {
     "name": "#%%\n"
    }
   },
   "outputs": [
    {
     "name": "stderr",
     "output_type": "stream",
     "text": [
      "\u001b[32m[I 2022-07-10 15:45:01,025]\u001b[0m A new study created in memory with name: no-name-61bb0ee0-b17c-4d17-afd5-2e62fc11cd56\u001b[0m\n",
      "\u001b[32m[I 2022-07-10 15:46:05,682]\u001b[0m Trial 0 finished with value: 0.9951645063881602 and parameters: {'lambda': 1.0683300374960778, 'alpha': 0.00318481894550828, 'colsample_bytree': 0.5, 'subsample': 0.8, 'learning_rate': 0.018, 'max_depth': 9, 'random_state': 2020, 'min_child_weight': 68}. Best is trial 0 with value: 0.9951645063881602.\u001b[0m\n",
      "\u001b[32m[I 2022-07-10 15:46:52,965]\u001b[0m Trial 1 finished with value: 0.9597860847127059 and parameters: {'lambda': 0.0010174714317507366, 'alpha': 9.357139680065666, 'colsample_bytree': 0.7, 'subsample': 0.7, 'learning_rate': 0.008, 'max_depth': 5, 'random_state': 2020, 'min_child_weight': 239}. Best is trial 0 with value: 0.9951645063881602.\u001b[0m\n",
      "\u001b[32m[I 2022-07-10 15:48:32,278]\u001b[0m Trial 2 finished with value: 0.9956849415406243 and parameters: {'lambda': 0.004457096535991881, 'alpha': 0.020301276088256222, 'colsample_bytree': 0.9, 'subsample': 1.0, 'learning_rate': 0.012, 'max_depth': 13, 'random_state': 2020, 'min_child_weight': 67}. Best is trial 2 with value: 0.9956849415406243.\u001b[0m\n",
      "\u001b[32m[I 2022-07-10 15:49:32,143]\u001b[0m Trial 3 finished with value: 0.9223768019262757 and parameters: {'lambda': 2.833043033493888, 'alpha': 0.01731698124220531, 'colsample_bytree': 1.0, 'subsample': 0.5, 'learning_rate': 0.018, 'max_depth': 15, 'random_state': 2020, 'min_child_weight': 210}. Best is trial 2 with value: 0.9956849415406243.\u001b[0m\n",
      "\u001b[32m[I 2022-07-10 15:50:36,111]\u001b[0m Trial 4 finished with value: 0.9930058135543434 and parameters: {'lambda': 4.954352672823931, 'alpha': 1.2647452131506298, 'colsample_bytree': 0.6, 'subsample': 1.0, 'learning_rate': 0.014, 'max_depth': 17, 'random_state': 2020, 'min_child_weight': 130}. Best is trial 2 with value: 0.9956849415406243.\u001b[0m\n",
      "\u001b[32m[I 2022-07-10 15:51:31,186]\u001b[0m Trial 5 finished with value: 0.9913908910190606 and parameters: {'lambda': 0.18748368534828333, 'alpha': 0.7421715100259942, 'colsample_bytree': 1.0, 'subsample': 0.8, 'learning_rate': 0.018, 'max_depth': 5, 'random_state': 2020, 'min_child_weight': 214}. Best is trial 2 with value: 0.9956849415406243.\u001b[0m\n",
      "\u001b[32m[I 2022-07-10 15:52:07,457]\u001b[0m Trial 6 finished with value: 0.878336878159558 and parameters: {'lambda': 0.15601434650015078, 'alpha': 6.491754283128748, 'colsample_bytree': 0.3, 'subsample': 0.6, 'learning_rate': 0.02, 'max_depth': 9, 'random_state': 2020, 'min_child_weight': 289}. Best is trial 2 with value: 0.9956849415406243.\u001b[0m\n",
      "\u001b[32m[I 2022-07-10 15:53:03,027]\u001b[0m Trial 7 finished with value: 0.9541343281723591 and parameters: {'lambda': 0.007342071529684983, 'alpha': 2.6752707647390563, 'colsample_bytree': 0.3, 'subsample': 0.7, 'learning_rate': 0.008, 'max_depth': 11, 'random_state': 2020, 'min_child_weight': 26}. Best is trial 2 with value: 0.9956849415406243.\u001b[0m\n",
      "\u001b[32m[I 2022-07-10 15:54:03,434]\u001b[0m Trial 8 finished with value: 0.8455667464774694 and parameters: {'lambda': 1.0116738284551965, 'alpha': 0.002796767379122511, 'colsample_bytree': 1.0, 'subsample': 0.5, 'learning_rate': 0.02, 'max_depth': 15, 'random_state': 2020, 'min_child_weight': 255}. Best is trial 2 with value: 0.9956849415406243.\u001b[0m\n",
      "\u001b[32m[I 2022-07-10 15:55:05,350]\u001b[0m Trial 9 finished with value: 0.9700317527234348 and parameters: {'lambda': 1.1799617465086991, 'alpha': 0.0010585651276614303, 'colsample_bytree': 0.8, 'subsample': 0.4, 'learning_rate': 0.008, 'max_depth': 15, 'random_state': 2020, 'min_child_weight': 119}. Best is trial 2 with value: 0.9956849415406243.\u001b[0m\n",
      "\u001b[32m[I 2022-07-10 15:56:50,042]\u001b[0m Trial 10 finished with value: 0.9986440856349896 and parameters: {'lambda': 0.010575916096944773, 'alpha': 0.07975245082665566, 'colsample_bytree': 0.9, 'subsample': 1.0, 'learning_rate': 0.012, 'max_depth': 13, 'random_state': 2020, 'min_child_weight': 2}. Best is trial 10 with value: 0.9986440856349896.\u001b[0m\n",
      "\u001b[32m[I 2022-07-10 15:58:41,324]\u001b[0m Trial 11 finished with value: 0.9985187361594263 and parameters: {'lambda': 0.01223981361017437, 'alpha': 0.07267863280593231, 'colsample_bytree': 0.9, 'subsample': 1.0, 'learning_rate': 0.012, 'max_depth': 13, 'random_state': 2020, 'min_child_weight': 4}. Best is trial 10 with value: 0.9986440856349896.\u001b[0m\n",
      "\u001b[32m[I 2022-07-10 16:00:34,745]\u001b[0m Trial 12 finished with value: 0.9986471646917453 and parameters: {'lambda': 0.024481477259976406, 'alpha': 0.16169506557201896, 'colsample_bytree': 0.9, 'subsample': 1.0, 'learning_rate': 0.012, 'max_depth': 13, 'random_state': 2020, 'min_child_weight': 2}. Best is trial 12 with value: 0.9986471646917453.\u001b[0m\n",
      "\u001b[32m[I 2022-07-10 16:01:50,319]\u001b[0m Trial 13 finished with value: 0.9963572232723386 and parameters: {'lambda': 0.03838098558674345, 'alpha': 0.21322392519812278, 'colsample_bytree': 0.9, 'subsample': 1.0, 'learning_rate': 0.016, 'max_depth': 7, 'random_state': 2020, 'min_child_weight': 54}. Best is trial 12 with value: 0.9986471646917453.\u001b[0m\n",
      "\u001b[32m[I 2022-07-10 16:03:16,163]\u001b[0m Trial 14 finished with value: 0.9751454583148305 and parameters: {'lambda': 0.036391575340169326, 'alpha': 0.16446360279046798, 'colsample_bytree': 0.4, 'subsample': 1.0, 'learning_rate': 0.01, 'max_depth': 13, 'random_state': 2020, 'min_child_weight': 94}. Best is trial 12 with value: 0.9986471646917453.\u001b[0m\n",
      "\u001b[32m[I 2022-07-10 16:04:52,575]\u001b[0m Trial 15 finished with value: 0.9882798547684996 and parameters: {'lambda': 0.0013772859005420114, 'alpha': 0.03686603953671456, 'colsample_bytree': 0.9, 'subsample': 0.6, 'learning_rate': 0.012, 'max_depth': 13, 'random_state': 2020, 'min_child_weight': 169}. Best is trial 12 with value: 0.9986471646917453.\u001b[0m\n",
      "\u001b[32m[I 2022-07-10 16:06:20,827]\u001b[0m Trial 16 finished with value: 0.9986708902789309 and parameters: {'lambda': 0.03286622105295758, 'alpha': 0.37905732922914503, 'colsample_bytree': 0.9, 'subsample': 0.4, 'learning_rate': 0.012, 'max_depth': 13, 'random_state': 2020, 'min_child_weight': 3}. Best is trial 16 with value: 0.9986708902789309.\u001b[0m\n",
      "\u001b[32m[I 2022-07-10 16:07:45,225]\u001b[0m Trial 17 finished with value: 0.9949546498365521 and parameters: {'lambda': 0.04841067009782404, 'alpha': 0.4321610261706584, 'colsample_bytree': 0.6, 'subsample': 0.4, 'learning_rate': 0.012, 'max_depth': 11, 'random_state': 2020, 'min_child_weight': 45}. Best is trial 16 with value: 0.9986708902789309.\u001b[0m\n",
      "\u001b[32m[I 2022-07-10 16:08:37,342]\u001b[0m Trial 18 finished with value: 0.9379472272707766 and parameters: {'lambda': 0.3494615172817736, 'alpha': 0.3980677831600628, 'colsample_bytree': 0.5, 'subsample': 0.4, 'learning_rate': 0.014, 'max_depth': 7, 'random_state': 2020, 'min_child_weight': 170}. Best is trial 16 with value: 0.9986708902789309.\u001b[0m\n",
      "\u001b[32m[I 2022-07-10 16:09:49,749]\u001b[0m Trial 19 finished with value: 0.9973408127730985 and parameters: {'lambda': 0.07140594758055664, 'alpha': 1.387925176962906, 'colsample_bytree': 0.8, 'subsample': 0.4, 'learning_rate': 0.016, 'max_depth': 17, 'random_state': 2020, 'min_child_weight': 101}. Best is trial 16 with value: 0.9986708902789309.\u001b[0m\n"
     ]
    }
   ],
   "source": [
    "study = optuna.create_study(direction='maximize')\n",
    "study.optimize(lambda trial: objective(trial, X_train, y_train), n_trials=20)"
   ]
  },
  {
   "cell_type": "code",
   "execution_count": null,
   "metadata": {},
   "outputs": [],
   "source": []
  }
 ],
 "metadata": {
  "kernelspec": {
   "display_name": "Python 3 (ipykernel)",
   "language": "python",
   "name": "python3"
  },
  "language_info": {
   "codemirror_mode": {
    "name": "ipython",
    "version": 3
   },
   "file_extension": ".py",
   "mimetype": "text/x-python",
   "name": "python",
   "nbconvert_exporter": "python",
   "pygments_lexer": "ipython3",
   "version": "3.8.10"
  }
 },
 "nbformat": 4,
 "nbformat_minor": 4
}
