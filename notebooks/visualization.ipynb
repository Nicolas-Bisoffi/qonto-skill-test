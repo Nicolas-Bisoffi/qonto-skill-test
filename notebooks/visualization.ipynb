{
 "cells": [
  {
   "cell_type": "code",
   "execution_count": 1,
   "metadata": {
    "tags": []
   },
   "outputs": [],
   "source": [
    "import os\n",
    "import pandas as pd\n",
    "\n",
    "from dotenv import load_dotenv\n",
    "from pathlib import Path\n",
    "import matplotlib.pyplot as plt\n",
    "import matplotlib.lines as mlines\n",
    "import seaborn as sns\n",
    "\n",
    "%load_ext autoreload\n",
    "%autoreload 2"
   ]
  },
  {
   "cell_type": "code",
   "execution_count": 2,
   "metadata": {},
   "outputs": [
    {
     "data": {
      "text/plain": [
       "True"
      ]
     },
     "execution_count": 2,
     "metadata": {},
     "output_type": "execute_result"
    }
   ],
   "source": [
    "load_dotenv(override=True)"
   ]
  },
  {
   "cell_type": "code",
   "execution_count": 3,
   "metadata": {},
   "outputs": [],
   "source": [
    "DIR_DATA_PROCESSED: str = os.getenv(\"DIR_DATA_PROCESSED\")"
   ]
  },
  {
   "cell_type": "code",
   "execution_count": 4,
   "metadata": {},
   "outputs": [],
   "source": [
    "df = pd.read_csv(f\"{DIR_DATA_PROCESSED}/data.csv\")"
   ]
  },
  {
   "cell_type": "code",
   "execution_count": 5,
   "metadata": {},
   "outputs": [],
   "source": [
    "X = df.drop(columns=\"isFraud\")\n",
    "y = df[\"isFraud\"]"
   ]
  },
  {
   "cell_type": "code",
   "execution_count": 6,
   "metadata": {},
   "outputs": [],
   "source": [
    "def plot_strip(X: pd.Series, y: pd.Series, hue: pd.Series, figsize: tuple = (14, 9)):\n",
    "    fig = plt.figure(figsize=figsize)\n",
    "    colours = plt.cm.tab10(np.linspace(0, 1, 9))\n",
    "    with sns.axes_style(\"ticks\"):\n",
    "        ax = sns.stripplot(\n",
    "            X, y, hue=hue, jitter=0.4, marker=\".\", size=4, palette=colours\n",
    "        )\n",
    "        ax.set_xlabel(\"\")\n",
    "        ax.set_xticklabels([\"genuine\", \"fraudulent\"], size=16)\n",
    "        for axis in [\"top\", \"bottom\", \"left\", \"right\"]:\n",
    "            ax.spines[axis].set_linewidth(2)\n",
    "\n",
    "        handles, labels = ax.get_legend_handles_labels()\n",
    "        plt.legend(\n",
    "            handles,\n",
    "            [\"Transfer\", \"Cash out\"],\n",
    "            bbox_to_anchor=(1, 1),\n",
    "            loc=2,\n",
    "            borderaxespad=0,\n",
    "            fontsize=16,\n",
    "        )\n",
    "    return ax"
   ]
  },
  {
   "cell_type": "code",
   "execution_count": 7,
   "metadata": {},
   "outputs": [
    {
     "ename": "NameError",
     "evalue": "name 'np' is not defined",
     "output_type": "error",
     "traceback": [
      "\u001b[0;31m---------------------------------------------------------------------------\u001b[0m",
      "\u001b[0;31mNameError\u001b[0m                                 Traceback (most recent call last)",
      "Input \u001b[0;32mIn [7]\u001b[0m, in \u001b[0;36m<cell line: 1>\u001b[0;34m()\u001b[0m\n\u001b[0;32m----> 1\u001b[0m ax \u001b[38;5;241m=\u001b[39m \u001b[43mplot_strip\u001b[49m\u001b[43m(\u001b[49m\u001b[43my\u001b[49m\u001b[43m,\u001b[49m\u001b[43m \u001b[49m\u001b[43mX\u001b[49m\u001b[43m[\u001b[49m\u001b[38;5;124;43m'\u001b[39;49m\u001b[38;5;124;43mstep\u001b[39;49m\u001b[38;5;124;43m'\u001b[39;49m\u001b[43m]\u001b[49m\u001b[43m,\u001b[49m\u001b[43m \u001b[49m\u001b[43mX\u001b[49m\u001b[43m[\u001b[49m\u001b[38;5;124;43m'\u001b[39;49m\u001b[38;5;124;43mtype\u001b[39;49m\u001b[38;5;124;43m'\u001b[39;49m\u001b[43m]\u001b[49m\u001b[43m)\u001b[49m\n\u001b[1;32m      2\u001b[0m ax\u001b[38;5;241m.\u001b[39mset_ylabel(\u001b[38;5;124m'\u001b[39m\u001b[38;5;124mtime [hour]\u001b[39m\u001b[38;5;124m'\u001b[39m, size \u001b[38;5;241m=\u001b[39m \u001b[38;5;241m16\u001b[39m)\n\u001b[1;32m      3\u001b[0m ax\u001b[38;5;241m.\u001b[39mset_title(\u001b[38;5;124m'\u001b[39m\u001b[38;5;124mStriped vs. homogenous fingerprints of genuine and fraudulent \u001b[39m\u001b[38;5;130;01m\\\u001b[39;00m\n\u001b[1;32m      4\u001b[0m \u001b[38;5;124mtransactions over time\u001b[39m\u001b[38;5;124m'\u001b[39m, size \u001b[38;5;241m=\u001b[39m \u001b[38;5;241m20\u001b[39m)\n",
      "Input \u001b[0;32mIn [6]\u001b[0m, in \u001b[0;36mplot_strip\u001b[0;34m(X, y, hue, figsize)\u001b[0m\n\u001b[1;32m      1\u001b[0m \u001b[38;5;28;01mdef\u001b[39;00m \u001b[38;5;21mplot_strip\u001b[39m(X: pd\u001b[38;5;241m.\u001b[39mSeries, y: pd\u001b[38;5;241m.\u001b[39mSeries, hue: pd\u001b[38;5;241m.\u001b[39mSeries, figsize: \u001b[38;5;28mtuple\u001b[39m \u001b[38;5;241m=\u001b[39m (\u001b[38;5;241m14\u001b[39m, \u001b[38;5;241m9\u001b[39m)):\n\u001b[1;32m      2\u001b[0m     fig \u001b[38;5;241m=\u001b[39m plt\u001b[38;5;241m.\u001b[39mfigure(figsize \u001b[38;5;241m=\u001b[39m figsize)\n\u001b[0;32m----> 3\u001b[0m     colours \u001b[38;5;241m=\u001b[39m plt\u001b[38;5;241m.\u001b[39mcm\u001b[38;5;241m.\u001b[39mtab10(\u001b[43mnp\u001b[49m\u001b[38;5;241m.\u001b[39mlinspace(\u001b[38;5;241m0\u001b[39m, \u001b[38;5;241m1\u001b[39m, \u001b[38;5;241m9\u001b[39m))\n\u001b[1;32m      4\u001b[0m     \u001b[38;5;28;01mwith\u001b[39;00m sns\u001b[38;5;241m.\u001b[39maxes_style(\u001b[38;5;124m'\u001b[39m\u001b[38;5;124mticks\u001b[39m\u001b[38;5;124m'\u001b[39m):\n\u001b[1;32m      5\u001b[0m         ax \u001b[38;5;241m=\u001b[39m sns\u001b[38;5;241m.\u001b[39mstripplot(X, y, \\\n\u001b[1;32m      6\u001b[0m              hue \u001b[38;5;241m=\u001b[39m hue, jitter \u001b[38;5;241m=\u001b[39m \u001b[38;5;241m0.4\u001b[39m, marker \u001b[38;5;241m=\u001b[39m \u001b[38;5;124m'\u001b[39m\u001b[38;5;124m.\u001b[39m\u001b[38;5;124m'\u001b[39m, \\\n\u001b[1;32m      7\u001b[0m              size \u001b[38;5;241m=\u001b[39m \u001b[38;5;241m4\u001b[39m, palette \u001b[38;5;241m=\u001b[39m colours)\n",
      "\u001b[0;31mNameError\u001b[0m: name 'np' is not defined"
     ]
    },
    {
     "data": {
      "text/plain": [
       "<Figure size 1008x648 with 0 Axes>"
      ]
     },
     "metadata": {},
     "output_type": "display_data"
    }
   ],
   "source": [
    "ax = plot_strip(y, X[\"step\"], X[\"type\"])\n",
    "ax.set_ylabel(\"time [hour]\", size=16)\n",
    "ax.set_title(\n",
    "    \"Striped vs. homogenous fingerprints of genuine and fraudulent \\\n",
    "transactions over time\",\n",
    "    size=20,\n",
    ");"
   ]
  },
  {
   "cell_type": "code",
   "execution_count": null,
   "metadata": {},
   "outputs": [],
   "source": [
    "ax = plot_strip(y, X[\"amount\"], X[\"type\"], figsize=(14, 9))\n",
    "ax.set_ylabel(\"amount\", size=16)\n",
    "ax.set_title(\n",
    "    \"Same-signed fingerprints of genuine \\\n",
    "and fraudulent transactions over amount\",\n",
    "    size=18,\n",
    ");"
   ]
  },
  {
   "cell_type": "code",
   "execution_count": null,
   "metadata": {},
   "outputs": [],
   "source": [
    "ax = plot_strip(y, -X[\"errorBalanceDest\"], X[\"type\"], figsize=(14, 9))\n",
    "ax.set_ylabel(\"- errorBalanceDest\", size=16)\n",
    "ax.set_title(\n",
    "    \"Opposite polarity fingerprints over the error in \\\n",
    "destination account balances\",\n",
    "    size=18,\n",
    ");"
   ]
  },
  {
   "cell_type": "code",
   "execution_count": null,
   "metadata": {},
   "outputs": [],
   "source": [
    "# Long computation in this cell (~2.5 minutes)\n",
    "x_ = \"errorBalanceDest\"\n",
    "y_ = \"step\"\n",
    "z_ = \"errorBalanceOrig\"\n",
    "zOffset = 0.02\n",
    "\n",
    "sns.reset_orig()  # prevent seaborn from over-riding mplot3d defaults\n",
    "\n",
    "fig = plt.figure(figsize=(10, 12))\n",
    "ax = fig.add_subplot(111, projection=\"3d\")\n",
    "\n",
    "ax.scatter(\n",
    "    X.loc[y == 0, x_],\n",
    "    X.loc[y == 0, y_],\n",
    "    -np.log10(X.loc[y == 0, z_] + zOffset),\n",
    "    c=\"g\",\n",
    "    marker=\".\",\n",
    "    s=1,\n",
    "    label=\"genuine\",\n",
    ")\n",
    "\n",
    "ax.scatter(\n",
    "    X.loc[y == 1, x_],\n",
    "    X.loc[y == 1, y_],\n",
    "    -np.log10(X.loc[y == 1, z_] + zOffset),\n",
    "    c=\"r\",\n",
    "    marker=\".\",\n",
    "    s=1,\n",
    "    label=\"fraudulent\",\n",
    ")\n",
    "\n",
    "ax.set_xlabel(x_, size=16)\n",
    "ax.set_ylabel(y_ + \" [hour]\", size=16)\n",
    "ax.set_zlabel(\"- log$_{10}$ (\" + z_ + \")\", size=16)\n",
    "ax.set_title(\n",
    "    \"Error-based features separate out genuine and fraudulent \\\n",
    "transactions\",\n",
    "    size=20,\n",
    ")\n",
    "\n",
    "plt.axis(\"tight\")\n",
    "ax.grid(1)\n",
    "\n",
    "not_fraud_marker = mlines.Line2D(\n",
    "    [], [], linewidth=0, color=\"g\", marker=\".\", markersize=10, label=\"genuine\"\n",
    ")\n",
    "fraud_marker = mlines.Line2D(\n",
    "    [], [], linewidth=0, color=\"r\", marker=\".\", markersize=10, label=\"fraudulent\"\n",
    ")\n",
    "\n",
    "plt.legend(\n",
    "    handles=[not_fraud_marker, fraud_marker],\n",
    "    bbox_to_anchor=(1.20, 0.38),\n",
    "    frameon=False,\n",
    "    prop={\"size\": 16},\n",
    ");"
   ]
  },
  {
   "cell_type": "code",
   "execution_count": null,
   "metadata": {},
   "outputs": [],
   "source": [
    "non_fraud_correlation = X.loc[y == 0, X.columns != \"step\"].corr()\n",
    "mask = np.zeros_like(non_fraud_correlation)\n",
    "indices = np.triu_indices_from(non_fraud_correlation)\n",
    "mask[indices] = True\n",
    "\n",
    "grid_kws = {\"width_ratios\": (0.9, 0.9, 0.05), \"wspace\": 0.2}\n",
    "f, (ax1, ax2, cbar_ax) = plt.subplots(1, 3, gridspec_kw=grid_kws, figsize=(14, 9))\n",
    "\n",
    "cmap = sns.diverging_palette(220, 8, as_cmap=True)\n",
    "ax1 = sns.heatmap(\n",
    "    non_fraud_correlation,\n",
    "    ax=ax1,\n",
    "    vmin=-1,\n",
    "    vmax=1,\n",
    "    cmap=cmap,\n",
    "    square=False,\n",
    "    linewidths=0.5,\n",
    "    mask=mask,\n",
    "    cbar=False,\n",
    ")\n",
    "ax1.set_xticklabels(ax1.get_xticklabels(), size=16)\n",
    "ax1.set_yticklabels(ax1.get_yticklabels(), size=16)\n",
    "ax1.set_title(\"Genuine \\n transactions\", size=20)\n",
    "\n",
    "fraud_correlation = X.loc[y == 1, X.columns != \"step\"].corr()\n",
    "ax2 = sns.heatmap(\n",
    "    fraud_correlation,\n",
    "    vmin=-1,\n",
    "    vmax=1,\n",
    "    cmap=cmap,\n",
    "    ax=ax2,\n",
    "    square=False,\n",
    "    linewidths=0.5,\n",
    "    mask=mask,\n",
    "    yticklabels=False,\n",
    "    cbar_ax=cbar_ax,\n",
    "    cbar_kws={\"orientation\": \"vertical\", \"ticks\": [-1, -0.5, 0, 0.5, 1]},\n",
    ")\n",
    "ax2.set_xticklabels(ax2.get_xticklabels(), size=16)\n",
    "ax2.set_title(\"Fraudulent \\n transactions\", size=20)\n",
    "\n",
    "cbar_ax.set_yticklabels(cbar_ax.get_yticklabels(), size=14);"
   ]
  },
  {
   "cell_type": "code",
   "execution_count": null,
   "metadata": {},
   "outputs": [],
   "source": []
  }
 ],
 "metadata": {
  "kernelspec": {
   "display_name": "Python 3 (ipykernel)",
   "language": "python",
   "name": "python3"
  },
  "language_info": {
   "codemirror_mode": {
    "name": "ipython",
    "version": 3
   },
   "file_extension": ".py",
   "mimetype": "text/x-python",
   "name": "python",
   "nbconvert_exporter": "python",
   "pygments_lexer": "ipython3",
   "version": "3.9.13"
  }
 },
 "nbformat": 4,
 "nbformat_minor": 4
}