{
 "cells": [
  {
   "cell_type": "code",
   "execution_count": 1,
   "metadata": {
    "tags": []
   },
   "outputs": [],
   "source": [
    "import os\n",
    "import pandas as pd\n",
    "\n",
    "from dotenv import load_dotenv\n",
    "from pathlib import Path\n",
    "import matplotlib.pyplot as plt\n",
    "import matplotlib.lines as mlines\n",
    "import seaborn as sns\n",
    "\n",
    "%load_ext autoreload\n",
    "%autoreload 2"
   ]
  },
  {
   "cell_type": "code",
   "execution_count": 2,
   "metadata": {},
   "outputs": [
    {
     "data": {
      "text/plain": [
       "True"
      ]
     },
     "execution_count": 2,
     "metadata": {},
     "output_type": "execute_result"
    }
   ],
   "source": [
    "load_dotenv(override=True)"
   ]
  },
  {
   "cell_type": "code",
   "execution_count": 3,
   "metadata": {},
   "outputs": [],
   "source": [
    "DIR_DATA_PROCESSED: str = os.getenv(\"DIR_DATA_PROCESSED\")"
   ]
  },
  {
   "cell_type": "code",
   "execution_count": 4,
   "metadata": {},
   "outputs": [],
   "source": [
    "df = pd.read_csv(f\"{DIR_DATA_PROCESSED}/data.csv\")"
   ]
  },
  {
   "cell_type": "code",
   "execution_count": 5,
   "metadata": {},
   "outputs": [],
   "source": [
    "X = df.drop(columns=\"isFraud\")\n",
    "y = df[\"isFraud\"]"
   ]
  },
  {
   "cell_type": "code",
   "execution_count": 6,
   "metadata": {},
   "outputs": [],
   "source": [
    "def plot_strip(X: pd.Series, y: pd.Series, hue: pd.Series, figsize: tuple = (14, 9)):\n",
    "    fig = plt.figure(figsize = figsize)\n",
    "    colours = plt.cm.tab10(np.linspace(0, 1, 9))\n",
    "    with sns.axes_style('ticks'):\n",
    "        ax = sns.stripplot(X, y, \\\n",
    "             hue = hue, jitter = 0.4, marker = '.', \\\n",
    "             size = 4, palette = colours)\n",
    "        ax.set_xlabel('')\n",
    "        ax.set_xticklabels(['genuine', 'fraudulent'], size = 16)\n",
    "        for axis in ['top','bottom','left','right']:\n",
    "            ax.spines[axis].set_linewidth(2)\n",
    "\n",
    "        handles, labels = ax.get_legend_handles_labels()\n",
    "        plt.legend(handles, ['Transfer', 'Cash out'], bbox_to_anchor=(1, 1), \\\n",
    "               loc=2, borderaxespad=0, fontsize = 16);\n",
    "    return ax"
   ]
  },
  {
   "cell_type": "code",
   "execution_count": 7,
   "metadata": {},
   "outputs": [
    {
     "ename": "NameError",
     "evalue": "name 'np' is not defined",
     "output_type": "error",
     "traceback": [
      "\u001B[0;31m---------------------------------------------------------------------------\u001B[0m",
      "\u001B[0;31mNameError\u001B[0m                                 Traceback (most recent call last)",
      "Input \u001B[0;32mIn [7]\u001B[0m, in \u001B[0;36m<cell line: 1>\u001B[0;34m()\u001B[0m\n\u001B[0;32m----> 1\u001B[0m ax \u001B[38;5;241m=\u001B[39m \u001B[43mplot_strip\u001B[49m\u001B[43m(\u001B[49m\u001B[43my\u001B[49m\u001B[43m,\u001B[49m\u001B[43m \u001B[49m\u001B[43mX\u001B[49m\u001B[43m[\u001B[49m\u001B[38;5;124;43m'\u001B[39;49m\u001B[38;5;124;43mstep\u001B[39;49m\u001B[38;5;124;43m'\u001B[39;49m\u001B[43m]\u001B[49m\u001B[43m,\u001B[49m\u001B[43m \u001B[49m\u001B[43mX\u001B[49m\u001B[43m[\u001B[49m\u001B[38;5;124;43m'\u001B[39;49m\u001B[38;5;124;43mtype\u001B[39;49m\u001B[38;5;124;43m'\u001B[39;49m\u001B[43m]\u001B[49m\u001B[43m)\u001B[49m\n\u001B[1;32m      2\u001B[0m ax\u001B[38;5;241m.\u001B[39mset_ylabel(\u001B[38;5;124m'\u001B[39m\u001B[38;5;124mtime [hour]\u001B[39m\u001B[38;5;124m'\u001B[39m, size \u001B[38;5;241m=\u001B[39m \u001B[38;5;241m16\u001B[39m)\n\u001B[1;32m      3\u001B[0m ax\u001B[38;5;241m.\u001B[39mset_title(\u001B[38;5;124m'\u001B[39m\u001B[38;5;124mStriped vs. homogenous fingerprints of genuine and fraudulent \u001B[39m\u001B[38;5;130;01m\\\u001B[39;00m\n\u001B[1;32m      4\u001B[0m \u001B[38;5;124mtransactions over time\u001B[39m\u001B[38;5;124m'\u001B[39m, size \u001B[38;5;241m=\u001B[39m \u001B[38;5;241m20\u001B[39m)\n",
      "Input \u001B[0;32mIn [6]\u001B[0m, in \u001B[0;36mplot_strip\u001B[0;34m(X, y, hue, figsize)\u001B[0m\n\u001B[1;32m      1\u001B[0m \u001B[38;5;28;01mdef\u001B[39;00m \u001B[38;5;21mplot_strip\u001B[39m(X: pd\u001B[38;5;241m.\u001B[39mSeries, y: pd\u001B[38;5;241m.\u001B[39mSeries, hue: pd\u001B[38;5;241m.\u001B[39mSeries, figsize: \u001B[38;5;28mtuple\u001B[39m \u001B[38;5;241m=\u001B[39m (\u001B[38;5;241m14\u001B[39m, \u001B[38;5;241m9\u001B[39m)):\n\u001B[1;32m      2\u001B[0m     fig \u001B[38;5;241m=\u001B[39m plt\u001B[38;5;241m.\u001B[39mfigure(figsize \u001B[38;5;241m=\u001B[39m figsize)\n\u001B[0;32m----> 3\u001B[0m     colours \u001B[38;5;241m=\u001B[39m plt\u001B[38;5;241m.\u001B[39mcm\u001B[38;5;241m.\u001B[39mtab10(\u001B[43mnp\u001B[49m\u001B[38;5;241m.\u001B[39mlinspace(\u001B[38;5;241m0\u001B[39m, \u001B[38;5;241m1\u001B[39m, \u001B[38;5;241m9\u001B[39m))\n\u001B[1;32m      4\u001B[0m     \u001B[38;5;28;01mwith\u001B[39;00m sns\u001B[38;5;241m.\u001B[39maxes_style(\u001B[38;5;124m'\u001B[39m\u001B[38;5;124mticks\u001B[39m\u001B[38;5;124m'\u001B[39m):\n\u001B[1;32m      5\u001B[0m         ax \u001B[38;5;241m=\u001B[39m sns\u001B[38;5;241m.\u001B[39mstripplot(X, y, \\\n\u001B[1;32m      6\u001B[0m              hue \u001B[38;5;241m=\u001B[39m hue, jitter \u001B[38;5;241m=\u001B[39m \u001B[38;5;241m0.4\u001B[39m, marker \u001B[38;5;241m=\u001B[39m \u001B[38;5;124m'\u001B[39m\u001B[38;5;124m.\u001B[39m\u001B[38;5;124m'\u001B[39m, \\\n\u001B[1;32m      7\u001B[0m              size \u001B[38;5;241m=\u001B[39m \u001B[38;5;241m4\u001B[39m, palette \u001B[38;5;241m=\u001B[39m colours)\n",
      "\u001B[0;31mNameError\u001B[0m: name 'np' is not defined"
     ]
    },
    {
     "data": {
      "text/plain": [
       "<Figure size 1008x648 with 0 Axes>"
      ]
     },
     "metadata": {},
     "output_type": "display_data"
    }
   ],
   "source": [
    "ax = plot_strip(y, X['step'], X['type'])\n",
    "ax.set_ylabel('time [hour]', size = 16)\n",
    "ax.set_title('Striped vs. homogenous fingerprints of genuine and fraudulent \\\n",
    "transactions over time', size = 20);"
   ]
  },
  {
   "cell_type": "code",
   "execution_count": null,
   "metadata": {},
   "outputs": [],
   "source": [
    "ax = plot_strip(y, X['amount'], X['type'], figsize = (14, 9))\n",
    "ax.set_ylabel('amount', size = 16)\n",
    "ax.set_title('Same-signed fingerprints of genuine \\\n",
    "and fraudulent transactions over amount', size = 18);"
   ]
  },
  {
   "cell_type": "code",
   "execution_count": null,
   "metadata": {},
   "outputs": [],
   "source": [
    "ax = plot_strip(y, - X['errorBalanceDest'], X['type'], figsize = (14, 9))\n",
    "ax.set_ylabel('- errorBalanceDest', size = 16)\n",
    "ax.set_title('Opposite polarity fingerprints over the error in \\\n",
    "destination account balances', size = 18);"
   ]
  },
  {
   "cell_type": "code",
   "execution_count": null,
   "metadata": {},
   "outputs": [],
   "source": [
    "# Long computation in this cell (~2.5 minutes)\n",
    "x_ = 'errorBalanceDest'\n",
    "y_ = 'step'\n",
    "z_ = 'errorBalanceOrig'\n",
    "zOffset = 0.02\n",
    "\n",
    "sns.reset_orig() # prevent seaborn from over-riding mplot3d defaults\n",
    "\n",
    "fig = plt.figure(figsize = (10, 12))\n",
    "ax = fig.add_subplot(111, projection='3d')\n",
    "\n",
    "ax.scatter(X.loc[y == 0, x_], X.loc[y == 0, y_], \\\n",
    "  -np.log10(X.loc[y == 0, z_] + zOffset), c = 'g', marker = '.', \\\n",
    "  s = 1, label = 'genuine')\n",
    "\n",
    "ax.scatter(X.loc[y == 1, x_], X.loc[y == 1, y_], \\\n",
    "  -np.log10(X.loc[y == 1, z_] + zOffset), c = 'r', marker = '.', \\\n",
    "  s = 1, label = 'fraudulent')\n",
    "\n",
    "ax.set_xlabel(x_, size = 16); \n",
    "ax.set_ylabel(y_ + ' [hour]', size = 16); \n",
    "ax.set_zlabel('- log$_{10}$ (' + z_ + ')', size = 16)\n",
    "ax.set_title('Error-based features separate out genuine and fraudulent \\\n",
    "transactions', size = 20)\n",
    "\n",
    "plt.axis('tight')\n",
    "ax.grid(1)\n",
    "\n",
    "not_fraud_marker = mlines.Line2D([], [], linewidth = 0, color='g', marker='.',\n",
    "                          markersize = 10, label='genuine')\n",
    "fraud_marker = mlines.Line2D([], [], linewidth = 0, color='r', marker='.',\n",
    "                          markersize = 10, label='fraudulent')\n",
    "\n",
    "plt.legend(handles = [not_fraud_marker, fraud_marker], bbox_to_anchor = (1.20, 0.38 ), frameon = False, prop={'size': 16});"
   ]
  },
  {
   "cell_type": "code",
   "execution_count": null,
   "metadata": {},
   "outputs": [],
   "source": [
    "non_fraud_correlation = X.loc[y == 0, X.columns != 'step'].corr()\n",
    "mask = np.zeros_like(non_fraud_correlation)\n",
    "indices = np.triu_indices_from(non_fraud_correlation)\n",
    "mask[indices] = True\n",
    "\n",
    "grid_kws = {\"width_ratios\": (.9, .9, .05), \"wspace\": 0.2}\n",
    "f, (ax1, ax2, cbar_ax) = plt.subplots(1, 3, gridspec_kw=grid_kws, \\\n",
    "                                     figsize = (14, 9))\n",
    "\n",
    "cmap = sns.diverging_palette(220, 8, as_cmap=True)\n",
    "ax1 =sns.heatmap(non_fraud_correlation, ax = ax1, vmin = -1, vmax = 1, \\\n",
    "    cmap = cmap, square = False, linewidths = 0.5, mask = mask, cbar = False)\n",
    "ax1.set_xticklabels(ax1.get_xticklabels(), size = 16); \n",
    "ax1.set_yticklabels(ax1.get_yticklabels(), size = 16); \n",
    "ax1.set_title('Genuine \\n transactions', size = 20)\n",
    "\n",
    "fraud_correlation = X.loc[y == 1, X.columns != 'step'].corr()\n",
    "ax2 = sns.heatmap(fraud_correlation, vmin = -1, vmax = 1, cmap = cmap, \\\n",
    " ax = ax2, square = False, linewidths = 0.5, mask = mask, yticklabels = False, \\\n",
    "    cbar_ax = cbar_ax, cbar_kws={'orientation': 'vertical', \\\n",
    "                                 'ticks': [-1, -0.5, 0, 0.5, 1]})\n",
    "ax2.set_xticklabels(ax2.get_xticklabels(), size = 16); \n",
    "ax2.set_title('Fraudulent \\n transactions', size = 20);\n",
    "\n",
    "cbar_ax.set_yticklabels(cbar_ax.get_yticklabels(), size = 14);"
   ]
  },
  {
   "cell_type": "code",
   "execution_count": null,
   "metadata": {},
   "outputs": [],
   "source": []
  }
 ],
 "metadata": {
  "kernelspec": {
   "display_name": "Python 3 (ipykernel)",
   "language": "python",
   "name": "python3"
  },
  "language_info": {
   "codemirror_mode": {
    "name": "ipython",
    "version": 3
   },
   "file_extension": ".py",
   "mimetype": "text/x-python",
   "name": "python",
   "nbconvert_exporter": "python",
   "pygments_lexer": "ipython3",
   "version": "3.9.13"
  }
 },
 "nbformat": 4,
 "nbformat_minor": 4
}